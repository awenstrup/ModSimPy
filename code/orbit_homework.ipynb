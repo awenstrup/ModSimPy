{
 "cells": [
  {
   "cell_type": "markdown",
   "metadata": {},
   "source": [
    "# Modeling and Simulation in Python\n",
    "\n",
    "Starter code for the orbit example\n",
    "\n",
    "Copyright 2017 Allen Downey\n",
    "\n",
    "License: [Creative Commons Attribution 4.0 International](https://creativecommons.org/licenses/by/4.0)\n"
   ]
  },
  {
   "cell_type": "code",
   "execution_count": 62,
   "metadata": {},
   "outputs": [],
   "source": [
    "# Configure Jupyter so figures appear in the notebook\n",
    "%matplotlib inline\n",
    "\n",
    "# Configure Jupyter to display the assigned value after an assignment\n",
    "%config InteractiveShell.ast_node_interactivity='last_expr_or_assign'\n",
    "\n",
    "# import functions from the modsim.py module\n",
    "from modsim import *\n",
    "import math"
   ]
  },
  {
   "cell_type": "markdown",
   "metadata": {},
   "source": [
    "### Earth falling into the sun\n",
    "\n",
    "Here's a question from the web site [Ask an Astronomer](http://curious.astro.cornell.edu/about-us/39-our-solar-system/the-earth/other-catastrophes/57-how-long-would-it-take-the-earth-to-fall-into-the-sun-intermediate):\n",
    "\n",
    "\"If the Earth suddenly stopped orbiting the Sun, I know eventually it would be pulled in by the Sun's gravity and hit it. How long would it take the Earth to hit the Sun? I imagine it would go slowly at first and then pick up speed.\"\n",
    "\n",
    "Here's a solution."
   ]
  },
  {
   "cell_type": "code",
   "execution_count": 63,
   "metadata": {},
   "outputs": [
    {
     "data": {
      "text/html": [
       "meter"
      ],
      "text/latex": [
       "$meter$"
      ],
      "text/plain": [
       "<Unit('meter')>"
      ]
     },
     "execution_count": 63,
     "metadata": {},
     "output_type": "execute_result"
    }
   ],
   "source": [
    "# Here are the units we'll need\n",
    "\n",
    "s = UNITS.second\n",
    "N = UNITS.newton\n",
    "kg = UNITS.kilogram\n",
    "m = UNITS.meter"
   ]
  },
  {
   "cell_type": "code",
   "execution_count": 140,
   "metadata": {},
   "outputs": [
    {
     "data": {
      "text/html": [
       "<div>\n",
       "<style scoped>\n",
       "    .dataframe tbody tr th:only-of-type {\n",
       "        vertical-align: middle;\n",
       "    }\n",
       "\n",
       "    .dataframe tbody tr th {\n",
       "        vertical-align: top;\n",
       "    }\n",
       "\n",
       "    .dataframe thead th {\n",
       "        text-align: right;\n",
       "    }\n",
       "</style>\n",
       "<table border=\"1\" class=\"dataframe\">\n",
       "  <thead>\n",
       "    <tr style=\"text-align: right;\">\n",
       "      <th></th>\n",
       "      <th>values</th>\n",
       "    </tr>\n",
       "  </thead>\n",
       "  <tbody>\n",
       "    <tr>\n",
       "      <th>x</th>\n",
       "      <td>147000000000.0 meter</td>\n",
       "    </tr>\n",
       "    <tr>\n",
       "      <th>y</th>\n",
       "      <td>0 meter</td>\n",
       "    </tr>\n",
       "    <tr>\n",
       "      <th>vx</th>\n",
       "      <td>0.0 meter / second</td>\n",
       "    </tr>\n",
       "    <tr>\n",
       "      <th>vy</th>\n",
       "      <td>0.0 meter / second</td>\n",
       "    </tr>\n",
       "  </tbody>\n",
       "</table>\n",
       "</div>"
      ],
      "text/plain": [
       "x     147000000000.0 meter\n",
       "y                  0 meter\n",
       "vx      0.0 meter / second\n",
       "vy      0.0 meter / second\n",
       "dtype: object"
      ]
     },
     "execution_count": 140,
     "metadata": {},
     "output_type": "execute_result"
    }
   ],
   "source": [
    "# And an inition condition (with everything in SI units)\n",
    "\n",
    "r_0 = 147e9 * m\n",
    "\n",
    "init = State(x = r_0, y = 0 * m, vx = 0 * m/s, vy = 0 * m/s)"
   ]
  },
  {
   "cell_type": "code",
   "execution_count": 141,
   "metadata": {},
   "outputs": [
    {
     "data": {
      "text/html": [
       "<div>\n",
       "<style scoped>\n",
       "    .dataframe tbody tr th:only-of-type {\n",
       "        vertical-align: middle;\n",
       "    }\n",
       "\n",
       "    .dataframe tbody tr th {\n",
       "        vertical-align: top;\n",
       "    }\n",
       "\n",
       "    .dataframe thead th {\n",
       "        text-align: right;\n",
       "    }\n",
       "</style>\n",
       "<table border=\"1\" class=\"dataframe\">\n",
       "  <thead>\n",
       "    <tr style=\"text-align: right;\">\n",
       "      <th></th>\n",
       "      <th>values</th>\n",
       "    </tr>\n",
       "  </thead>\n",
       "  <tbody>\n",
       "    <tr>\n",
       "      <th>init</th>\n",
       "      <td>x     147000000000.0 meter\n",
       "y                  ...</td>\n",
       "    </tr>\n",
       "    <tr>\n",
       "      <th>G</th>\n",
       "      <td>6.674e-11 meter ** 2 * newton / kilogram ** 2</td>\n",
       "    </tr>\n",
       "    <tr>\n",
       "      <th>m1</th>\n",
       "      <td>1.989e+30 kilogram</td>\n",
       "    </tr>\n",
       "    <tr>\n",
       "      <th>r_final</th>\n",
       "      <td>701879000.0 meter</td>\n",
       "    </tr>\n",
       "    <tr>\n",
       "      <th>m2</th>\n",
       "      <td>5.972e+24 kilogram</td>\n",
       "    </tr>\n",
       "    <tr>\n",
       "      <th>t_0</th>\n",
       "      <td>0 second</td>\n",
       "    </tr>\n",
       "    <tr>\n",
       "      <th>t_end</th>\n",
       "      <td>1000000000.0 second</td>\n",
       "    </tr>\n",
       "  </tbody>\n",
       "</table>\n",
       "</div>"
      ],
      "text/plain": [
       "init       x     147000000000.0 meter\n",
       "y                  ...\n",
       "G              6.674e-11 meter ** 2 * newton / kilogram ** 2\n",
       "m1                                        1.989e+30 kilogram\n",
       "r_final                                    701879000.0 meter\n",
       "m2                                        5.972e+24 kilogram\n",
       "t_0                                                 0 second\n",
       "t_end                                    1000000000.0 second\n",
       "dtype: object"
      ]
     },
     "execution_count": 141,
     "metadata": {},
     "output_type": "execute_result"
    }
   ],
   "source": [
    "# Making a system object\n",
    "\n",
    "r_earth = 6.371e6 * m\n",
    "r_sun = 695.508e6 * m\n",
    "\n",
    "system = System(init=init,\n",
    "                G=6.674e-11 * N / kg**2 * m**2,\n",
    "                m1=1.989e30 * kg,\n",
    "                r_final=r_sun + r_earth,\n",
    "                m2=5.972e24 * kg,\n",
    "                t_0=0 * s,\n",
    "                t_end=1e9 * s)"
   ]
  },
  {
   "cell_type": "code",
   "execution_count": 142,
   "metadata": {},
   "outputs": [],
   "source": [
    "%psource ModSimVector"
   ]
  },
  {
   "cell_type": "code",
   "execution_count": 159,
   "metadata": {},
   "outputs": [],
   "source": [
    "# Here's a function that computes the force of gravity\n",
    "\n",
    "def universal_gravitation(state, system):\n",
    "    \"\"\"Computes gravitational force.\n",
    "    \n",
    "    state: State object with distance r\n",
    "    system: System object with m1, m2, and G\n",
    "    \"\"\"\n",
    "    \n",
    "    x, y, vx, vy = state\n",
    "    \n",
    "    position = Vector(x,y)\n",
    "    force = system.G * system.m1 * system.m2 / position.mag2\n",
    "    fx = -1 * force * math.cos(position.angle)\n",
    "    fy = -1 * force * math.sin(position.angle)\n",
    "    force_vector = Vector(fx, fy)\n",
    "    return force_vector\n"
   ]
  },
  {
   "cell_type": "code",
   "execution_count": 160,
   "metadata": {},
   "outputs": [
    {
     "data": {
      "text/html": [
       "[-3.6686486e+22 -0.0000000e+00] newton"
      ],
      "text/latex": [
       "$[-3.6686486e+22 -0.0000000e+00] newton$"
      ],
      "text/plain": [
       "<Quantity([-3.6686486e+22 -0.0000000e+00], 'newton')>"
      ]
     },
     "execution_count": 160,
     "metadata": {},
     "output_type": "execute_result"
    }
   ],
   "source": [
    "universal_gravitation(init, system)"
   ]
  },
  {
   "cell_type": "code",
   "execution_count": 161,
   "metadata": {},
   "outputs": [],
   "source": [
    "# The slope function\n",
    "\n",
    "def slope_func(state, t, system):\n",
    "    \"\"\"Compute derivatives of the state.\n",
    "    \n",
    "    state: position, velocity\n",
    "    t: time\n",
    "    system: System object containing `g`\n",
    "    \n",
    "    returns: derivatives of x, y, vx, and vy\n",
    "    \"\"\"    \n",
    "    x, y, vx, vy = state\n",
    "    \n",
    "    print('Velocity: ', vx, '   Position: ', x)\n",
    "    \n",
    "    dxdt = vx\n",
    "    dydt = vy\n",
    "    \n",
    "    dvdt = universal_gravitation(state, system) / system.m2\n",
    "    dvxdt = dvdt.x\n",
    "    dvydt = dvdt.y\n",
    "    \n",
    "    return dxdt, dydt, dvxdt, dvydt"
   ]
  },
  {
   "cell_type": "code",
   "execution_count": 162,
   "metadata": {},
   "outputs": [
    {
     "name": "stdout",
     "output_type": "stream",
     "text": [
      "Velocity:  0.0 meter / second    Position:  147000000000.0 meter\n"
     ]
    },
    {
     "data": {
      "text/plain": [
       "(<Quantity(0.0, 'meter / second')>,\n",
       " <Quantity(0.0, 'meter / second')>,\n",
       " <Quantity(-0.006143082049146188, 'newton / kilogram')>,\n",
       " <Quantity(-0.0, 'newton / kilogram')>)"
      ]
     },
     "execution_count": 162,
     "metadata": {},
     "output_type": "execute_result"
    }
   ],
   "source": [
    "# Always test the slope function!\n",
    "\n",
    "slope_func(init, 0, system)"
   ]
  },
  {
   "cell_type": "code",
   "execution_count": 163,
   "metadata": {},
   "outputs": [],
   "source": [
    "# Here's an event function that stops the simulation\n",
    "# before the collision\n",
    "\n",
    "def event_func(state, t, system):\n",
    "    x, y, dx, dy = state\n",
    "    position = Vector(x, y)\n",
    "    return position.mag - system.r_final"
   ]
  },
  {
   "cell_type": "code",
   "execution_count": 164,
   "metadata": {},
   "outputs": [
    {
     "data": {
      "text/html": [
       "146298121000.0 meter"
      ],
      "text/latex": [
       "$146298121000.0 meter$"
      ],
      "text/plain": [
       "<Quantity(146298121000.0, 'meter')>"
      ]
     },
     "execution_count": 164,
     "metadata": {},
     "output_type": "execute_result"
    }
   ],
   "source": [
    "# Always test the event function!\n",
    "\n",
    "event_func(init, 0, system)"
   ]
  },
  {
   "cell_type": "code",
   "execution_count": 165,
   "metadata": {},
   "outputs": [
    {
     "data": {
      "text/html": [
       "<div>\n",
       "<style scoped>\n",
       "    .dataframe tbody tr th:only-of-type {\n",
       "        vertical-align: middle;\n",
       "    }\n",
       "\n",
       "    .dataframe tbody tr th {\n",
       "        vertical-align: top;\n",
       "    }\n",
       "\n",
       "    .dataframe thead th {\n",
       "        text-align: right;\n",
       "    }\n",
       "</style>\n",
       "<table border=\"1\" class=\"dataframe\">\n",
       "  <thead>\n",
       "    <tr style=\"text-align: right;\">\n",
       "      <th></th>\n",
       "      <th>values</th>\n",
       "    </tr>\n",
       "  </thead>\n",
       "  <tbody>\n",
       "    <tr>\n",
       "      <th>x</th>\n",
       "      <td>147000000000.0 meter</td>\n",
       "    </tr>\n",
       "    <tr>\n",
       "      <th>y</th>\n",
       "      <td>0 meter</td>\n",
       "    </tr>\n",
       "    <tr>\n",
       "      <th>vx</th>\n",
       "      <td>0.0 meter / second</td>\n",
       "    </tr>\n",
       "    <tr>\n",
       "      <th>vy</th>\n",
       "      <td>0.0 meter / second</td>\n",
       "    </tr>\n",
       "  </tbody>\n",
       "</table>\n",
       "</div>"
      ],
      "text/plain": [
       "x     147000000000.0 meter\n",
       "y                  0 meter\n",
       "vx      0.0 meter / second\n",
       "vy      0.0 meter / second\n",
       "dtype: object"
      ]
     },
     "execution_count": 165,
     "metadata": {},
     "output_type": "execute_result"
    }
   ],
   "source": [
    "system.init"
   ]
  },
  {
   "cell_type": "code",
   "execution_count": 166,
   "metadata": {},
   "outputs": [
    {
     "name": "stdout",
     "output_type": "stream",
     "text": [
      "Velocity:  0.0    Position:  147000000000.0\n",
      "Velocity:  -9.999999999999931e-06    Position:  147000000000.0\n",
      "Velocity:  -9.816237276781519e-05    Position:  147000000000.0\n",
      "Velocity:  -0.00014724355915172278    Position:  147000000000.0\n",
      "Velocity:  -0.0003926494910712605    Position:  147000000000.0\n",
      "Velocity:  -0.00043627721230140096    Position:  146999999999.99997\n",
      "Velocity:  -0.0004908118638390755    Position:  146999999999.99997\n",
      "Velocity:  -0.0004908118638390759    Position:  146999999999.99997\n",
      "Velocity:  -0.001472435591517228    Position:  146999999999.99988\n",
      "Velocity:  -0.001963247455356305    Position:  146999999999.99966\n",
      "Velocity:  -0.0044173067745517346    Position:  146999999999.9984\n",
      "Velocity:  -0.004853583986853189    Position:  146999999999.99808\n",
      "Velocity:  -0.005398930502229952    Position:  146999999999.99762\n",
      "Velocity:  -0.005398930502229893    Position:  146999999999.99762\n",
      "Velocity:  -0.015215167779011728    Position:  146999999999.98898\n",
      "Velocity:  -0.020123286417403942    Position:  146999999999.96704\n",
      "Velocity:  -0.0446638796094083    Position:  146999999999.83762\n",
      "Velocity:  -0.04902665173247411    Position:  146999999999.80435\n",
      "Velocity:  -0.05448011688625337    Position:  146999999999.75842\n",
      "Velocity:  -0.054480116886197104    Position:  146999999999.75842\n",
      "Velocity:  -0.15264248965433494    Position:  146999999998.88788\n",
      "Velocity:  -0.2017236760397118    Position:  146999999996.68796\n",
      "Velocity:  -0.44712960800994755    Position:  146999999983.72763\n",
      "Velocity:  -0.49075732929189797    Position:  146999999980.39725\n",
      "Velocity:  -0.5452919808414034    Position:  146999999975.79852\n",
      "Velocity:  -0.545291980785063    Position:  146999999975.79852\n",
      "Velocity:  -1.5269157087864356    Position:  146999999888.6645\n",
      "Velocity:  -2.017727574096298    Position:  146999999668.6334\n",
      "Velocity:  -4.4717869439980795    Position:  146999998372.40674\n",
      "Velocity:  -4.908064208111169    Position:  146999998039.33163\n",
      "Velocity:  -5.45341073532179    Position:  146999997579.4164\n",
      "Velocity:  -5.453410678981896    Position:  146999997579.41638\n",
      "Velocity:  -15.26964827904265    Position:  146999988865.22818\n",
      "Velocity:  -20.17776838836717    Position:  146999966861.72607\n",
      "Velocity:  -44.718412287610136    Position:  146999837237.05844\n",
      "Velocity:  -49.08123622250186    Position:  146999803929.25302\n",
      "Velocity:  -54.53471321049312    Position:  146999757937.2932\n",
      "Velocity:  -54.534656870672826    Position:  146999757937.14954\n",
      "Velocity:  -152.69735292450775    Position:  146998886509.53818\n",
      "Velocity:  -201.78001027670982    Position:  146996686149.18042\n",
      "Velocity:  -447.23665202420864    Position:  146983723257.0511\n",
      "Velocity:  -490.9161833979162    Position:  146980392991.90366\n",
      "Velocity:  -545.4626733851538    Position:  146975793792.64673\n",
      "Velocity:  -545.406339390953    Position:  146975792355.83148\n",
      "Velocity:  -1527.3534503208853    Position:  146888640043.7365\n",
      "Velocity:  -2019.6382697832184    Position:  146668541679.8355\n",
      "Velocity:  -4524.653530053786    Position:  145368189073.26965\n",
      "Velocity:  -5012.556181427559    Position:  145040399159.01926\n",
      "Velocity:  -5570.169983594644    Position:  144580392453.76483\n",
      "Velocity:  -5514.43975101168    Position:  144565914624.3063\n",
      "Velocity:  -9136.154010351289    Position:  141421596999.23907\n",
      "Velocity:  -11130.204070559595    Position:  137526210795.6412\n",
      "Velocity:  -23721.952433074017    Position:  113610919030.43549\n",
      "Velocity:  -27585.745229679942    Position:  108149674855.41049\n",
      "Velocity:  -31022.63331560275    Position:  100085153623.15654\n",
      "Velocity:  -29759.68817072562    Position:  98618889929.7446\n",
      "Velocity:  -38962.048912182145    Position:  78554458187.7046\n",
      "Velocity:  -49527.198017358205    Position:  61542325217.37714\n",
      "Velocity:  -224110.48234914945    Position:  -102758210156.09845\n",
      "Velocity:  -497626.90241562674    Position:  -94879131196.14807\n",
      "Velocity:  -434712.1317671909    Position:  -12475220095.12503\n",
      "Velocity:  301069.61324014    Position:  -128492758346.34644\n",
      "Velocity:  -32556.66806856071    Position:  92520475205.44987\n",
      "Velocity:  -34383.64067860525    Position:  88826459799.39786\n",
      "Velocity:  -45405.67609478497    Position:  68078942320.0835\n",
      "Velocity:  -47598.77990394912    Position:  62869790478.445465\n",
      "Velocity:  -50924.14772603627    Position:  57296086535.854675\n",
      "Velocity:  -52216.421361767716    Position:  58614259859.4428\n",
      "Velocity:  -61474.17552428004    Position:  46103078096.33593\n",
      "Velocity:  -72522.76022494162    Position:  37352034208.28008\n",
      "Velocity:  -223431.14622650566    Position:  -36521290078.49239\n",
      "Velocity:  -475633.45576866297    Position:  -47697035140.30979\n",
      "Velocity:  -380214.9069614422    Position:  -19654499409.92443\n",
      "Velocity:  1357.1737935785277    Position:  -36339350024.77163\n",
      "Velocity:  -55280.629491209904    Position:  54473205323.4864\n",
      "Velocity:  -57356.77294065084    Position:  52129293089.19019\n",
      "Velocity:  -69842.77471988215    Position:  39338942063.73407\n",
      "Velocity:  -72134.31350169706    Position:  36309604992.5421\n",
      "Velocity:  -76062.49294497457    Position:  33040470824.871407\n",
      "Velocity:  -77901.81083756685    Position:  33750848396.23274\n",
      "Velocity:  -89321.9663434948    Position:  26116570343.874836\n",
      "Velocity:  -103641.00545363953    Position:  21040375567.957153\n",
      "Velocity:  -300122.9656131761    Position:  -20738077628.123356\n",
      "Velocity:  -627930.197451381    Position:  -27512885910.86774\n",
      "Velocity:  -504552.86797299405    Position:  -13147018416.538418\n",
      "Velocity:  -29067.851624169023    Position:  -21468955284.113422\n",
      "Velocity:  -82079.39054371064    Position:  30958171444.851955\n",
      "Velocity:  -85054.34048803963    Position:  29393352169.594414\n",
      "Velocity:  -103560.79576452904    Position:  20817296362.95029\n",
      "Velocity:  -106250.40563952204    Position:  18766035748.418766\n",
      "Velocity:  -112371.91421522574    Position:  16533785805.562199\n",
      "Velocity:  -117540.31975461745    Position:  17046245221.8581\n",
      "Velocity:  -134649.087692258    Position:  12644325869.937492\n",
      "Velocity:  -158937.52184023662    Position:  9722546785.512735\n",
      "Velocity:  -555712.0338308528    Position:  -16162721863.074955\n",
      "Velocity:  -1177962.4436624346    Position:  -17652650282.450127\n",
      "Velocity:  -1025851.0290317602    Position:  -8068815280.107647\n",
      "Velocity:  -157238.28815366174    Position:  -20122440884.994965\n",
      "Velocity:  -124649.59272740653    Position:  15217098529.877064\n",
      "Velocity:  -130242.54711449837    Position:  14178062437.284534\n",
      "Velocity:  -168464.23016146367    Position:  8280678392.7719345\n",
      "Velocity:  -166181.1582562981    Position:  6774939543.019291\n",
      "Velocity:  -176890.25298434653    Position:  4980658211.396259\n",
      "Velocity:  -223911.885458467    Position:  5492215249.138922\n",
      "Velocity:  -121926.6881043861    Position:  15917675368.44284\n",
      "Velocity:  -124844.41773921622    Position:  15306009989.79463\n",
      "Velocity:  -141803.77101541587    Position:  12071362360.859238\n",
      "Velocity:  -145127.16420402046    Position:  11366531860.765343\n",
      "Velocity:  -150349.93141032037    Position:  10583615457.128351\n",
      "Velocity:  -151781.18424823086    Position:  10708198290.970196\n",
      "Velocity:  -169731.08713149928    Position:  8354819342.856865\n",
      "Velocity:  -191684.52395790728    Position:  6865025914.266475\n",
      "Velocity:  -465529.1550693936    Position:  -4509299669.995213\n",
      "Velocity:  -999334.1824868127    Position:  -6928721207.303276\n",
      "Velocity:  -683795.5271677802    Position:  -2439933831.7061405\n",
      "Velocity:  228706.46312102562    Position:  -2502736838.7948723\n",
      "Velocity:  -158387.59188028495    Position:  9842044265.233185\n",
      "Velocity:  -163056.50837825457    Position:  9366554634.365828\n",
      "Velocity:  -191601.51488805586    Position:  6803428963.690148\n",
      "Velocity:  -196177.43800403707    Position:  6214645670.991181\n",
      "Velocity:  -205628.77986998344    Position:  5570046022.609573\n",
      "Velocity:  -211832.8691383488    Position:  5700364543.9065695\n",
      "Velocity:  -239498.92029689878    Position:  4265784454.462504\n",
      "Velocity:  -277786.1795831645    Position:  3337713561.161986\n",
      "Velocity:  -859500.1854322664    Position:  -4481012519.387893\n",
      "Velocity:  -1784384.5768480652    Position:  -5371909479.722455\n",
      "Velocity:  -1522133.1973587405    Position:  -2825720523.276557\n",
      "Velocity:  -236455.5793154411    Position:  -5397744121.600741\n",
      "Velocity:  -223403.99120572128    Position:  5100361990.768465\n",
      "Velocity:  -232432.4411006456    Position:  4763489473.854355\n",
      "Velocity:  -293183.6603283195    Position:  2874865197.665205\n",
      "Velocity:  -292339.43978078413    Position:  2403279140.7084875\n",
      "Velocity:  -311278.7642198602    Position:  1856017374.4067345\n",
      "Velocity:  -368950.4105282775    Position:  2002353642.0115438\n",
      "Velocity:  -219778.8643691981    Position:  5288337309.384846\n",
      "Velocity:  -225199.08293071348    Position:  5064936342.084621\n",
      "Velocity:  -257271.5192816783    Position:  3878569049.0923405\n",
      "Velocity:  -263224.6807653676    Position:  3616850730.8599777\n",
      "Velocity:  -273429.1109899105    Position:  3327475007.59039\n",
      "Velocity:  -277387.2162785411    Position:  3376811862.74997\n",
      "Velocity:  -310367.9139787258    Position:  2590963006.805888\n",
      "Velocity:  -352778.6445684998    Position:  2092923518.4082084\n",
      "Velocity:  -919215.6957982061    Position:  -1819552122.6514182\n",
      "Velocity:  -1898140.6187333392    Position:  -2544824703.1018853\n",
      "Velocity:  -1478107.7267409777    Position:  -1289584514.2423282\n",
      "Velocity:  -61037.56687406293    Position:  -1777304980.2020001\n",
      "Velocity:  -289969.31935274    Position:  3077011312.8612275\n",
      "Velocity:  -299153.02870755363    Position:  2911812436.0025897\n",
      "Velocity:  -356864.6823836579    Position:  2013239352.232142\n",
      "Velocity:  -364183.7784669442    Position:  1802314114.7299874\n",
      "Velocity:  -383802.431680647    Position:  1570384435.904949\n",
      "Velocity:  -403256.43848759786    Position:  1621252119.5332408\n",
      "Velocity:  -458980.7207751747    Position:  1176307538.3217423\n",
      "Velocity:  -543237.851965184    Position:  884664635.7572837\n",
      "Velocity:  -2026859.6669955058    Position:  -1756628923.0589924\n",
      "Velocity:  -4349413.731816443    Position:  -1772445011.193532\n",
      "Velocity:  -3834516.5303100995    Position:  -713277951.9345536\n",
      "Velocity:  -581160.891245    Position:  -2242554534.629616\n",
      "Velocity:  -426255.97699680936    Position:  1437606505.6296535\n",
      "Velocity:  -444788.5994303871    Position:  1334000291.2436907\n",
      "Velocity:  -573609.6064154152    Position:  745937749.0629677\n"
     ]
    },
    {
     "name": "stdout",
     "output_type": "stream",
     "text": [
      "Velocity:  -557348.6813039919    Position:  596182239.3905915\n",
      "Velocity:  -588649.6992491267    Position:  412104617.35956454\n",
      "Velocity:  -802626.3832497597    Position:  465832881.3258345\n",
      "Velocity:  -416227.60286457604    Position:  1517680587.256606\n",
      "Velocity:  -424772.8336670748    Position:  1462146898.836264\n",
      "Velocity:  -473882.37739077164    Position:  1170909728.8382359\n",
      "Velocity:  -483651.27752741356    Position:  1109048294.355523\n",
      "Velocity:  -498579.12378642    Position:  1039482628.0773228\n",
      "Velocity:  -501918.3539546155    Position:  1049186604.8965834\n",
      "Velocity:  -557046.9987765143    Position:  819733001.2128632\n",
      "Velocity:  -624190.8393818706    Position:  676653680.7072916\n",
      "Velocity:  -1441923.8682043338    Position:  -391915144.9510056\n",
      "Velocity:  -3163834.0471127112    Position:  -629929094.404293\n",
      "Velocity:  -1990366.3968898864    Position:  -165622787.92251837\n",
      "Velocity:  1663371.4259184944    Position:  -106514976.38795578\n",
      "Velocity:  -524317.7799932974    Position:  955956868.4931792\n",
      "Velocity:  -540672.3037686576    Position:  904661300.4529271\n",
      "Velocity:  -643381.2994094014    Position:  625960643.7603312\n",
      "Velocity:  -656462.1387587811    Position:  560721063.6391397\n",
      "Velocity:  -691422.5836823431    Position:  488950154.3019458\n",
      "Velocity:  -725765.1376306956    Position:  504557340.7810192\n"
     ]
    },
    {
     "data": {
      "text/html": [
       "<div>\n",
       "<style scoped>\n",
       "    .dataframe tbody tr th:only-of-type {\n",
       "        vertical-align: middle;\n",
       "    }\n",
       "\n",
       "    .dataframe tbody tr th {\n",
       "        vertical-align: top;\n",
       "    }\n",
       "\n",
       "    .dataframe thead th {\n",
       "        text-align: right;\n",
       "    }\n",
       "</style>\n",
       "<table border=\"1\" class=\"dataframe\">\n",
       "  <thead>\n",
       "    <tr style=\"text-align: right;\">\n",
       "      <th></th>\n",
       "      <th>values</th>\n",
       "    </tr>\n",
       "  </thead>\n",
       "  <tbody>\n",
       "    <tr>\n",
       "      <th>sol</th>\n",
       "      <td>None</td>\n",
       "    </tr>\n",
       "    <tr>\n",
       "      <th>t_events</th>\n",
       "      <td>[[5432693.150108825]]</td>\n",
       "    </tr>\n",
       "    <tr>\n",
       "      <th>nfev</th>\n",
       "      <td>182</td>\n",
       "    </tr>\n",
       "    <tr>\n",
       "      <th>njev</th>\n",
       "      <td>0</td>\n",
       "    </tr>\n",
       "    <tr>\n",
       "      <th>nlu</th>\n",
       "      <td>0</td>\n",
       "    </tr>\n",
       "    <tr>\n",
       "      <th>status</th>\n",
       "      <td>1</td>\n",
       "    </tr>\n",
       "    <tr>\n",
       "      <th>message</th>\n",
       "      <td>A termination event occurred.</td>\n",
       "    </tr>\n",
       "    <tr>\n",
       "      <th>success</th>\n",
       "      <td>True</td>\n",
       "    </tr>\n",
       "  </tbody>\n",
       "</table>\n",
       "</div>"
      ],
      "text/plain": [
       "sol                                  None\n",
       "t_events            [[5432693.150108825]]\n",
       "nfev                                  182\n",
       "njev                                    0\n",
       "nlu                                     0\n",
       "status                                  1\n",
       "message     A termination event occurred.\n",
       "success                              True\n",
       "dtype: object"
      ]
     },
     "execution_count": 166,
     "metadata": {},
     "output_type": "execute_result"
    }
   ],
   "source": [
    "# Finally we can run the simulation\n",
    "\n",
    "results, details = run_ode_solver(system, slope_func, events=event_func)\n",
    "details"
   ]
  },
  {
   "cell_type": "code",
   "execution_count": 167,
   "metadata": {},
   "outputs": [
    {
     "data": {
      "text/html": [
       "5432693.150108825 second"
      ],
      "text/latex": [
       "$5432693.150108825 second$"
      ],
      "text/plain": [
       "<Quantity(5432693.150108825, 'second')>"
      ]
     },
     "execution_count": 167,
     "metadata": {},
     "output_type": "execute_result"
    }
   ],
   "source": [
    "# Here's how long it takes...\n",
    "\n",
    "t_final = get_last_label(results) * s"
   ]
  },
  {
   "cell_type": "code",
   "execution_count": 168,
   "metadata": {},
   "outputs": [
    {
     "data": {
      "text/html": [
       "62.87839294107435 day"
      ],
      "text/latex": [
       "$62.87839294107435 day$"
      ],
      "text/plain": [
       "<Quantity(62.87839294107435, 'day')>"
      ]
     },
     "execution_count": 168,
     "metadata": {},
     "output_type": "execute_result"
    }
   ],
   "source": [
    "# ... expressed in units we understand\n",
    "\n",
    "t_final.to(UNITS.day)"
   ]
  },
  {
   "cell_type": "code",
   "execution_count": 14,
   "metadata": {},
   "outputs": [],
   "source": [
    "# Before plotting, we run the simulation again with `t_eval`\n",
    "\n",
    "ts = linspace(t_0, t_final, 201)\n",
    "results, details = run_ode_solver(system, slope_func, events=event_func, t_eval=ts)"
   ]
  },
  {
   "cell_type": "code",
   "execution_count": 15,
   "metadata": {},
   "outputs": [],
   "source": [
    "# Scaling the time steps to days\n",
    "\n",
    "results.index /= 60 * 60 * 24"
   ]
  },
  {
   "cell_type": "code",
   "execution_count": 16,
   "metadata": {},
   "outputs": [],
   "source": [
    "# Scaling the distance to million km\n",
    "\n",
    "r = results.r / 1e9;"
   ]
  },
  {
   "cell_type": "code",
   "execution_count": 17,
   "metadata": {},
   "outputs": [
    {
     "data": {
      "image/png": "[encoded data removed]",
      "text/plain": [
       "<Figure size 432x288 with 1 Axes>"
      ]
     },
     "metadata": {
      "needs_background": "light"
     },
     "output_type": "display_data"
    }
   ],
   "source": [
    "# And plotting\n",
    "\n",
    "plot(r, label='r')\n",
    "\n",
    "decorate(xlabel='Time (day)',\n",
    "         ylabel='Distance from sun (million km)')"
   ]
  },
  {
   "cell_type": "code",
   "execution_count": null,
   "metadata": {},
   "outputs": [],
   "source": []
  }
 ],
 "metadata": {
  "kernelspec": {
   "display_name": "Python 3",
   "language": "python",
   "name": "python3"
  },
  "language_info": {
   "codemirror_mode": {
    "name": "ipython",
    "version": 3
   },
   "file_extension": ".py",
   "mimetype": "text/x-python",
   "name": "python",
   "nbconvert_exporter": "python",
   "pygments_lexer": "ipython3",
   "version": "3.6.6"
  }
 },
 "nbformat": 4,
 "nbformat_minor": 2
}
