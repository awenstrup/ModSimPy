{
 "cells": [
  {
   "cell_type": "markdown",
   "metadata": {},
   "source": [
    "# The Duck Problem\n",
    "\n",
    "Alex Wenstrup"
   ]
  },
  {
   "cell_type": "code",
   "execution_count": 3,
   "metadata": {},
   "outputs": [],
   "source": [
    "from modsim import *"
   ]
  },
  {
   "cell_type": "code",
   "execution_count": 14,
   "metadata": {},
   "outputs": [],
   "source": [
    "def error_func(d):\n",
    "    system = System(r = 5, density_duck = 0.3, density_water = 1)\n",
    "    volume_displaced = pi / 3 * (3 * system.r * d**2 - d**3)\n",
    "    mass_displaced = volume_displaced * system.density_water\n",
    "    \n",
    "    mass_duck = 4 * pi / 3 * system.r**3 * system.density_duck\n",
    "    \n",
    "    print('The value of d is: ', d)\n",
    "    \n",
    "    return mass_displaced - mass_duck"
   ]
  },
  {
   "cell_type": "code",
   "execution_count": 15,
   "metadata": {},
   "outputs": [
    {
     "name": "stdout",
     "output_type": "stream",
     "text": [
      "The value of d is:  1\n",
      "The value of d is:  [1]\n",
      "The value of d is:  [1.]\n",
      "The value of d is:  [1.]\n",
      "The value of d is:  [1.00000001]\n",
      "The value of d is:  [6.03703702]\n",
      "The value of d is:  [3.19097921]\n",
      "The value of d is:  [3.80462331]\n",
      "The value of d is:  [3.62770006]\n",
      "The value of d is:  [3.63252779]\n",
      "The value of d is:  [3.63257492]\n",
      "The value of d is:  [3.63257491]\n"
     ]
    },
    {
     "data": {
      "text/plain": [
       "3.632574910905639"
      ]
     },
     "execution_count": 15,
     "metadata": {},
     "output_type": "execute_result"
    }
   ],
   "source": [
    "#The depth at which the duck rests is...\n",
    "answer = fsolve(error_func, x0=1)\n",
    "answer[0]"
   ]
  },
  {
   "cell_type": "code",
   "execution_count": null,
   "metadata": {},
   "outputs": [],
   "source": []
  }
 ],
 "metadata": {
  "kernelspec": {
   "display_name": "Python 3",
   "language": "python",
   "name": "python3"
  },
  "language_info": {
   "codemirror_mode": {
    "name": "ipython",
    "version": 3
   },
   "file_extension": ".py",
   "mimetype": "text/x-python",
   "name": "python",
   "nbconvert_exporter": "python",
   "pygments_lexer": "ipython3",
   "version": "3.6.6"
  }
 },
 "nbformat": 4,
 "nbformat_minor": 2
}
